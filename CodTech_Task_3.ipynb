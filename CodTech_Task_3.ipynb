{
  "nbformat": 4,
  "nbformat_minor": 0,
  "metadata": {
    "colab": {
      "provenance": [],
      "include_colab_link": true
    },
    "kernelspec": {
      "name": "python3",
      "display_name": "Python 3"
    },
    "language_info": {
      "name": "python"
    }
  },
  "cells": [
    {
      "cell_type": "markdown",
      "metadata": {
        "id": "view-in-github",
        "colab_type": "text"
      },
      "source": [
        "<a href=\"https://colab.research.google.com/github/Srihimavardhan/DASHBOARD_DEVELOPMENT/blob/main/CodTech_Task_3.ipynb\" target=\"_parent\"><img src=\"https://colab.research.google.com/assets/colab-badge.svg\" alt=\"Open In Colab\"/></a>"
      ]
    },
    {
      "cell_type": "code",
      "execution_count": null,
      "metadata": {
        "id": "1EtxyMLAY31-"
      },
      "outputs": [],
      "source": [
        "!pip install dash\n",
        "import pandas as pd\n",
        "import dash\n",
        "from dash import dcc, html\n",
        "import plotly.express as px\n",
        "from dash.dependencies import Input, Output\n",
        "import pandas as pd"
      ]
    },
    {
      "cell_type": "code",
      "source": [
        "# Load dataset, trying 'Orders' as the sheet name\n",
        "try:\n",
        "    df = pd.read_excel(\"Sample - Superstore.xls\", sheet_name=\"Orders\")\n",
        "except ValueError:\n",
        "    # If 'Orders' doesn't exist, print available sheet names for debugging\n",
        "    xls = pd.ExcelFile(\"Sample - Superstore.xls\")\n",
        "    print(f\"Available sheets: {xls.sheet_names}\")\n",
        "    raise  # Re-raise the error to stop execution\n",
        "\n",
        "\n",
        "# Data Preprocessing\n",
        "df['Order Date'] = pd.to_datetime(df['Order Date'])\n",
        "df['Year'] = df['Order Date'].dt.year"
      ],
      "metadata": {
        "id": "XKdpx5xeb9B2"
      },
      "execution_count": 10,
      "outputs": []
    },
    {
      "cell_type": "code",
      "source": [
        "# Initialize Dash App\n",
        "app = dash.Dash(__name__)\n",
        "\n",
        "# Layout\n",
        "app.layout = html.Div([\n",
        "    html.H1(\"Superstore Sales Dashboard\", style={'textAlign': 'center'}),\n",
        "\n",
        "    # Year Selection Dropdown\n",
        "    dcc.Dropdown(\n",
        "        id='year-dropdown',\n",
        "        options=[{'label': str(year), 'value': year} for year in df['Year'].unique()],\n",
        "        value=df['Year'].max(),\n",
        "        clearable=False,\n",
        "        style={'width': '50%'}\n",
        "    ),\n",
        "\n",
        "    # Sales Trend\n",
        "    dcc.Graph(id='sales-trend'),\n",
        "\n",
        "    # Category-wise Sales\n",
        "    dcc.Graph(id='category-sales'),\n",
        "\n",
        "    # Top Customers\n",
        "    dcc.Graph(id='top-customers')\n",
        "])"
      ],
      "metadata": {
        "id": "Aq8FUeYQcCOl"
      },
      "execution_count": 11,
      "outputs": []
    },
    {
      "cell_type": "code",
      "source": [
        "# Initialize Dash App\n",
        "app = dash.Dash(__name__)\n",
        "\n",
        "# Callbacks\n",
        "@app.callback(\n",
        "    [Output('sales-trend', 'figure'),\n",
        "     Output('category-sales', 'figure'),\n",
        "     Output('top-customers', 'figure')],\n",
        "    [Input('year-dropdown', 'value')]\n",
        ")\n",
        "def update_charts(selected_year):\n",
        "    filtered_df = df[df['Year'] == selected_year]\n",
        "\n",
        "    # Sales Trend\n",
        "    sales_fig = px.line(filtered_df, x='Order Date', y='Sales', title=\"Sales Over Time\", markers=True)\n",
        "\n",
        "    # Category Sales\n",
        "    category_fig = px.bar(filtered_df.groupby('Category')['Sales'].sum().reset_index(),\n",
        "                          x='Category', y='Sales', title=\"Sales by Category\", color='Category')\n",
        "\n",
        "    # Top Customers\n",
        "    top_customers = filtered_df.groupby('Customer Name')['Sales'].sum().nlargest(10).reset_index()\n",
        "    top_cust_fig = px.bar(top_customers, x='Customer Name', y='Sales', title=\"Top 10 Customers\", color='Customer Name')\n",
        "\n",
        "    return sales_fig, category_fig, top_cust_fig\n",
        "\n",
        "# Layout\n",
        "app.layout = html.Div([\n",
        "    html.H1(\"Superstore Sales Dashboard\", style={'textAlign': 'center'}),\n",
        "\n",
        "    # Year Selection Dropdown\n",
        "    dcc.Dropdown(\n",
        "        id='year-dropdown',\n",
        "        options=[{'label': str(year), 'value': year} for year in df['Year'].unique()],\n",
        "        value=df['Year'].max(),\n",
        "        clearable=False,\n",
        "        style={'width': '50%'}\n",
        "    ),\n",
        "\n",
        "    # Sales Trend\n",
        "    dcc.Graph(id='sales-trend'),\n",
        "\n",
        "    # Category-wise Sales\n",
        "    dcc.Graph(id='category-sales'),\n",
        "\n",
        "    # Top Customers\n",
        "    dcc.Graph(id='top-customers')\n",
        "])\n",
        "# Run Server\n",
        "if __name__ == '__main__':\n",
        "    app.run(debug=True)"
      ],
      "metadata": {
        "colab": {
          "base_uri": "https://localhost:8080/",
          "height": 672
        },
        "id": "x1ZwTedbZCCA",
        "outputId": "9f1e64cf-9091-4bcd-9e8d-4536f73b2750"
      },
      "execution_count": 24,
      "outputs": [
        {
          "output_type": "display_data",
          "data": {
            "text/plain": [
              "<IPython.core.display.Javascript object>"
            ],
            "application/javascript": [
              "(async (port, path, width, height, cache, element) => {\n",
              "    if (!google.colab.kernel.accessAllowed && !cache) {\n",
              "      return;\n",
              "    }\n",
              "    element.appendChild(document.createTextNode(''));\n",
              "    const url = await google.colab.kernel.proxyPort(port, {cache});\n",
              "    const iframe = document.createElement('iframe');\n",
              "    iframe.src = new URL(path, url).toString();\n",
              "    iframe.height = height;\n",
              "    iframe.width = width;\n",
              "    iframe.style.border = 0;\n",
              "    iframe.allow = [\n",
              "        'accelerometer',\n",
              "        'autoplay',\n",
              "        'camera',\n",
              "        'clipboard-read',\n",
              "        'clipboard-write',\n",
              "        'gyroscope',\n",
              "        'magnetometer',\n",
              "        'microphone',\n",
              "        'serial',\n",
              "        'usb',\n",
              "        'xr-spatial-tracking',\n",
              "    ].join('; ');\n",
              "    element.appendChild(iframe);\n",
              "  })(8050, \"/\", \"100%\", 650, false, window.element)"
            ]
          },
          "metadata": {}
        }
      ]
    },
    {
      "cell_type": "code",
      "source": [],
      "metadata": {
        "id": "JqzayZ5AcyGU"
      },
      "execution_count": null,
      "outputs": []
    }
  ]
}